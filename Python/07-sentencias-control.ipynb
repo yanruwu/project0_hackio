{
 "cells": [
  {
   "cell_type": "markdown",
   "metadata": {},
   "source": [
    "<div style=\"text-align: center;\">\n",
    "  <img src=\"https://github.com/Hack-io-Data/Imagenes/blob/main/01-LogosHackio/logo_celeste@4x.png?raw=true\" alt=\"logo hack(io)\" />\n",
    "</div>"
   ]
  },
  {
   "cell_type": "markdown",
   "metadata": {},
   "source": [
    "#### 1. Escribe un programa que determine si un número es par o impar.\n",
    "\n"
   ]
  },
  {
   "cell_type": "code",
   "execution_count": 314,
   "metadata": {},
   "outputs": [],
   "source": [
    "def parity(x):\n",
    "    if type(x) != int:\n",
    "        raise TypeError(\"Invalid input type\")\n",
    "    return \"Even\" if x % 2 == 0 else \"Odd\""
   ]
  },
  {
   "cell_type": "code",
   "execution_count": 315,
   "metadata": {},
   "outputs": [
    {
     "name": "stdout",
     "output_type": "stream",
     "text": [
      "Odd Even\n"
     ]
    }
   ],
   "source": [
    "print(parity(129387), parity(1298))"
   ]
  },
  {
   "cell_type": "markdown",
   "metadata": {},
   "source": [
    "#### 2. Genera un programa que nos diga si es de noche, de día o tarde según la hora proporcionada por el usuario."
   ]
  },
  {
   "cell_type": "code",
   "execution_count": null,
   "metadata": {},
   "outputs": [],
   "source": [
    "def daynight(time_input=()): #Para opción de input en ventana o como argumento en la función\n",
    "    if not time_input: # Si no hay input como argumento pasamos a un input en ventana\n",
    "        time_input = input(\"Introduzca la hora (HH:MM): \")\n",
    "    time_input = time_input.split(sep=\":\")\n",
    "    time_elem = [\"hora\", \"minuto\"]\n",
    "    time_input = [int(elem) for elem in time_input] # Convierto los elementos en integers para poder usar los booleanos posteriores y construimos un diccionario\n",
    "\n",
    "    time_dict = dict(zip(time_elem, time_input))\n",
    "    if time_dict[\"hora\"]>=24 or time_dict[\"hora\"]<0 or time_dict[\"minuto\"]>=60 or time_dict[\"minuto\"]<0:\n",
    "        raise ValueError(\"Introduzca una hora válida\")\n",
    "    else:\n",
    "        minute_count = time_dict[\"hora\"]*60 + time_dict[\"minuto\"] # Usar un argumento de minutos lo hace mucho más sencillo de programar\n",
    "        if 360<=minute_count<=720 :\n",
    "            return \"Día\"\n",
    "        elif 720<minute_count<=1140:\n",
    "            return \"Tarde\"\n",
    "        else:\n",
    "            return \"Noche\""
   ]
  },
  {
   "cell_type": "code",
   "execution_count": null,
   "metadata": {},
   "outputs": [
    {
     "name": "stdout",
     "output_type": "stream",
     "text": [
      "Día\n",
      "Tarde\n",
      "Noche\n"
     ]
    }
   ],
   "source": [
    "print(daynight(\"06:44\"))\n",
    "\n",
    "print(daynight(\"17:59\"))\n",
    "\n",
    "print(daynight()) # Input en ventana"
   ]
  },
  {
   "cell_type": "markdown",
   "metadata": {},
   "source": [
    "#### 3. Dado un nombre imprime un saludo personalizado."
   ]
  },
  {
   "cell_type": "code",
   "execution_count": null,
   "metadata": {},
   "outputs": [],
   "source": [
    "def greeting(name = ()):\n",
    "    if not name:\n",
    "        name = input(\"Introduzca su nombre:\")\n",
    "    return f\"Hola {name}, un easter egg para vosotros!\" if name == \"Hackio\" else f\"Hola {name}, encantado de conocerte!\""
   ]
  },
  {
   "cell_type": "code",
   "execution_count": null,
   "metadata": {},
   "outputs": [
    {
     "name": "stdout",
     "output_type": "stream",
     "text": [
      "Hola :), encantado de conocerte!\n",
      "Hola Hackio, un easter egg para vosotros!\n"
     ]
    }
   ],
   "source": [
    "print(greeting(\":)\"))\n",
    "print(greeting())"
   ]
  },
  {
   "cell_type": "markdown",
   "metadata": {},
   "source": [
    "#### 4. Escribe un programa que determine qué calificación en texto tiene un alumno en base a su calificación numérica. Las reglas de calificación son: \n",
    "\n",
    "- 0 - 69 insuficiente\n",
    "\n",
    "- 70 - 79 bien\n",
    "\n",
    "- 80 - 89 muy bien\n",
    "\n",
    "- 90 - 100 excelente\n"
   ]
  },
  {
   "cell_type": "code",
   "execution_count": 343,
   "metadata": {},
   "outputs": [],
   "source": [
    "def calificacion(notanum = ()):\n",
    "    if not notanum:\n",
    "        notanum = int(input(\"Introduzca una nota numérica:\"))\n",
    "\n",
    "    calif_text = [\"insuficiente\", \"bien\", \"muy bien\", \"excelente\"]\n",
    "    calif_num = [\"0-69\", \"70-79\", \"80-89\", \"90-100\"]\n",
    "    if not 0 <= notanum <= 100:\n",
    "        raise ValueError(\"Nota no válida (0-100).\")\n",
    "    for i in range(len(calif_text)):\n",
    "        a = int(calif_num[i].split(sep=\"-\")[0])\n",
    "        b = int(calif_num[i].split(sep=\"-\")[1])\n",
    "        if a<=notanum<=b:\n",
    "            return calif_text[i]\n"
   ]
  },
  {
   "cell_type": "code",
   "execution_count": 344,
   "metadata": {},
   "outputs": [
    {
     "name": "stdout",
     "output_type": "stream",
     "text": [
      "insuficiente\n",
      "bien\n",
      "muy bien\n",
      "excelente\n"
     ]
    }
   ],
   "source": [
    "print(calificacion(19))\n",
    "print(calificacion(75))\n",
    "print(calificacion(86))\n",
    "print(calificacion())"
   ]
  },
  {
   "cell_type": "markdown",
   "metadata": {},
   "source": [
    "#### 5. Escribe un programa que imprima el día de la semana, dado un número del 1 al 7.\n"
   ]
  },
  {
   "cell_type": "code",
   "execution_count": null,
   "metadata": {},
   "outputs": [],
   "source": [
    "def dia(day_num):\n",
    "    day_text = [\"Lunes\", \"Martes\", \"Miércoles\", \"Jueves\", \"Viernes\", \"Sábado\", \"Domingo\"]\n",
    "    return day_text[day_num-1]\n",
    "\n",
    "print([dia(i) for i in range(1,7)])"
   ]
  },
  {
   "cell_type": "code",
   "execution_count": 324,
   "metadata": {},
   "outputs": [
    {
     "name": "stdout",
     "output_type": "stream",
     "text": [
      "1: Lunes\n",
      "2: Martes\n",
      "3: Miércoles\n",
      "4: Jueves\n",
      "5: Viernes\n",
      "6: Sábado\n",
      "7: Domingo\n"
     ]
    }
   ],
   "source": [
    "for i in range(1,8):\n",
    "    print(f\"{i}: {dia(i)}\")"
   ]
  },
  {
   "cell_type": "markdown",
   "metadata": {},
   "source": [
    "#### 6. Escribe un programa que determine si un número es positivo, negativo o cero."
   ]
  },
  {
   "cell_type": "code",
   "execution_count": 325,
   "metadata": {},
   "outputs": [],
   "source": [
    "def check_sign(number):\n",
    "    if number == 0:\n",
    "        return \"Cero\"\n",
    "    elif number > 0:\n",
    "        return \"Positivo\"\n",
    "    else:\n",
    "        return \"Negativo\""
   ]
  },
  {
   "cell_type": "code",
   "execution_count": 339,
   "metadata": {},
   "outputs": [
    {
     "name": "stdout",
     "output_type": "stream",
     "text": [
      "-1: Negativo\n",
      "0: Cero\n",
      "1: Positivo\n"
     ]
    }
   ],
   "source": [
    "for i in range(-1,2):\n",
    "    print(f\"{i}: {check_sign(i)}\")"
   ]
  },
  {
   "cell_type": "markdown",
   "metadata": {},
   "source": [
    "#### 7. Escribe un programa que determine si una persona puede conducir o no. La edad mínima para conducir es 18 años. \n"
   ]
  },
  {
   "cell_type": "code",
   "execution_count": 352,
   "metadata": {},
   "outputs": [],
   "source": [
    "def can_drive(age):\n",
    "    if age < 0:\n",
    "        raise ValueError(\"Edad no válida\")\n",
    "    elif age >= 18:\n",
    "        return \"Puede conducir legalmente\"\n",
    "    else:\n",
    "        return \"No puede conducir legalmente\""
   ]
  },
  {
   "cell_type": "code",
   "execution_count": 357,
   "metadata": {},
   "outputs": [
    {
     "name": "stdout",
     "output_type": "stream",
     "text": [
      "18: Puede conducir legalmente\n",
      "17: No puede conducir legalmente\n"
     ]
    }
   ],
   "source": [
    "print(\"18:\", can_drive(18))\n",
    "print(\"17:\", can_drive(17))"
   ]
  },
  {
   "cell_type": "markdown",
   "metadata": {},
   "source": [
    "#### 8. Escribe un programa que determine si un estudiante aprobó o suspendió un examen."
   ]
  },
  {
   "cell_type": "code",
   "execution_count": 359,
   "metadata": {},
   "outputs": [],
   "source": [
    "def pass_fail(nota):\n",
    "    if not 0<=nota<=10:\n",
    "        raise ValueError(\"Introduzca un valor válido\")\n",
    "    elif nota>=5:\n",
    "        return \"Aprobado\"\n",
    "    else:\n",
    "        return \"Suspenso\""
   ]
  },
  {
   "cell_type": "code",
   "execution_count": 372,
   "metadata": {},
   "outputs": [
    {
     "name": "stdout",
     "output_type": "stream",
     "text": [
      "5: Aprobado\n",
      "4.9: Suspenso\n"
     ]
    }
   ],
   "source": [
    "print(\"5:\", pass_fail(5))\n",
    "print(\"4.9:\", pass_fail(4.9))"
   ]
  },
  {
   "cell_type": "markdown",
   "metadata": {},
   "source": [
    "#### 9. Escribe un programa que determine si un número es múltiplo de 3 y 5.\n"
   ]
  },
  {
   "cell_type": "code",
   "execution_count": 383,
   "metadata": {},
   "outputs": [],
   "source": [
    "def multiple35(num):\n",
    "    if (num%3 == 0 and num%5 == 0):\n",
    "        return \"Múltiplo de 3 y 5\"\n",
    "    elif num%3 == 0:\n",
    "        return \"Múltiplo de 3\"\n",
    "    elif num%5 == 0:\n",
    "        return \"Múltiplo de 5\"\n",
    "    else:\n",
    "        return \"No es un múltiplo de 3 o 5\""
   ]
  },
  {
   "cell_type": "code",
   "execution_count": 388,
   "metadata": {},
   "outputs": [
    {
     "name": "stdout",
     "output_type": "stream",
     "text": [
      "6: Múltiplo de 3\n",
      "7: No es un múltiplo de 3 o 5\n",
      "8: No es un múltiplo de 3 o 5\n",
      "9: Múltiplo de 3\n",
      "10: Múltiplo de 5\n",
      "11: No es un múltiplo de 3 o 5\n",
      "12: Múltiplo de 3\n",
      "13: No es un múltiplo de 3 o 5\n",
      "14: No es un múltiplo de 3 o 5\n",
      "15: Múltiplo de 3 y 5\n"
     ]
    }
   ],
   "source": [
    "for i in range(6,16):\n",
    "    print(f\"{i}: {multiple35(i)}\")"
   ]
  },
  {
   "cell_type": "markdown",
   "metadata": {},
   "source": [
    "#### 10. Escribe un programa que determine si un número es par o impar.\n"
   ]
  },
  {
   "cell_type": "code",
   "execution_count": 392,
   "metadata": {},
   "outputs": [
    {
     "data": {
      "text/plain": [
       "('Even', 'Odd')"
      ]
     },
     "execution_count": 392,
     "metadata": {},
     "output_type": "execute_result"
    }
   ],
   "source": [
    "parity(6), parity(7)"
   ]
  }
 ],
 "metadata": {
  "kernelspec": {
   "display_name": "hackio",
   "language": "python",
   "name": "python3"
  },
  "language_info": {
   "codemirror_mode": {
    "name": "ipython",
    "version": 3
   },
   "file_extension": ".py",
   "mimetype": "text/x-python",
   "name": "python",
   "nbconvert_exporter": "python",
   "pygments_lexer": "ipython3",
   "version": "3.11.4"
  }
 },
 "nbformat": 4,
 "nbformat_minor": 2
}
