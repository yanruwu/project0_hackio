{
 "cells": [
  {
   "cell_type": "markdown",
   "metadata": {},
   "source": [
    "<div style=\"text-align: center;\">\n",
    "  <img src=\"https://github.com/Hack-io-Data/Imagenes/blob/main/01-LogosHackio/logo_celeste@4x.png?raw=true\" alt=\"logo hack(io)\" />\n",
    "</div>"
   ]
  },
  {
   "cell_type": "markdown",
   "metadata": {},
   "source": [
    "####  1. Genera una lista de números del 0 al 4 y luego imprime cada número en la lista usando un `bucle for`. "
   ]
  },
  {
   "cell_type": "code",
   "execution_count": 10,
   "metadata": {},
   "outputs": [
    {
     "name": "stdout",
     "output_type": "stream",
     "text": [
      "0\n",
      "1\n",
      "2\n",
      "3\n",
      "4\n"
     ]
    }
   ],
   "source": [
    "numbers = [0,1,2,3,4]\n",
    "for i in numbers:\n",
    "    print(i)"
   ]
  },
  {
   "cell_type": "markdown",
   "metadata": {},
   "source": [
    "#### 2. Itera sobre una lista de frutas y muestra cada fruta en mayúsculas. \n"
   ]
  },
  {
   "cell_type": "code",
   "execution_count": 16,
   "metadata": {},
   "outputs": [
    {
     "name": "stdout",
     "output_type": "stream",
     "text": [
      "MANZANA\n",
      "PERA\n",
      "PLÁTANO\n",
      "UVA\n"
     ]
    }
   ],
   "source": [
    "frutas = [\"manzana\", \"pera\", \"plátano\", \"uva\"]\n",
    "for fruta in frutas:\n",
    "    print(fruta.upper())\n",
    "\n"
   ]
  },
  {
   "cell_type": "markdown",
   "metadata": {},
   "source": [
    "####  3. Genera un bucle while que imprima los números del 0 al 4. \n"
   ]
  },
  {
   "cell_type": "code",
   "execution_count": 19,
   "metadata": {},
   "outputs": [
    {
     "name": "stdout",
     "output_type": "stream",
     "text": [
      "0\n",
      "1\n",
      "2\n",
      "3\n",
      "4\n"
     ]
    }
   ],
   "source": [
    "i=0\n",
    "while  0<=i<=4:\n",
    "    print(i)\n",
    "    i += 1"
   ]
  },
  {
   "cell_type": "markdown",
   "metadata": {},
   "source": [
    "#### 4. Genera un bucle del 0 al 9, pero que se detenga en el 5.\n"
   ]
  },
  {
   "cell_type": "code",
   "execution_count": 99,
   "metadata": {},
   "outputs": [
    {
     "name": "stdout",
     "output_type": "stream",
     "text": [
      "0\n",
      "1\n",
      "2\n",
      "3\n",
      "4\n"
     ]
    }
   ],
   "source": [
    "for i in range(10):\n",
    "    if i == 5:\n",
    "        break\n",
    "    print(i)"
   ]
  },
  {
   "cell_type": "markdown",
   "metadata": {},
   "source": [
    "#### 5. Recorre los números del 0 al 9 e imprime solo los números impares."
   ]
  },
  {
   "cell_type": "code",
   "execution_count": 97,
   "metadata": {},
   "outputs": [
    {
     "name": "stdout",
     "output_type": "stream",
     "text": [
      "1\n",
      "3\n",
      "5\n",
      "7\n",
      "9\n"
     ]
    }
   ],
   "source": [
    "for i in range(10):\n",
    "    print(i) if i%2 != 0 else None"
   ]
  },
  {
   "cell_type": "markdown",
   "metadata": {},
   "source": [
    "#### 6. Dada la lista `[10, 20, 30, 40, 50]`, calcula la suma de todos los elementos usando un bucle `for`."
   ]
  },
  {
   "cell_type": "code",
   "execution_count": 31,
   "metadata": {},
   "outputs": [
    {
     "name": "stdout",
     "output_type": "stream",
     "text": [
      "150\n"
     ]
    }
   ],
   "source": [
    "numeros = [10, 20, 30, 40, 50]\n",
    "suma = 0\n",
    "for numero in numeros:\n",
    "    suma += numero\n",
    "print(suma)"
   ]
  },
  {
   "cell_type": "markdown",
   "metadata": {},
   "source": [
    "#### 7. Dada la cadena `\"Hola mundo\"`, cuenta cuántas veces aparecen las vocales (`a`, `e`, `i`, `o`, `u`) usando un bucle `for`.\n"
   ]
  },
  {
   "cell_type": "code",
   "execution_count": 64,
   "metadata": {},
   "outputs": [
    {
     "name": "stdout",
     "output_type": "stream",
     "text": [
      "Número de a: 1\n",
      "Número de e: 0\n",
      "Número de i: 0\n",
      "Número de o: 2\n",
      "Número de u: 1\n",
      "Vocales totales: 4\n"
     ]
    }
   ],
   "source": [
    "cadena = \"Hola mundo\"\n",
    "vocales = [\"a\", \"e\", \"i\", \"o\", \"u\"]\n",
    "total = 0\n",
    "for vocal in vocales:\n",
    "    print(f\"Número de {vocal}: {cadena.count(vocal)}\")\n",
    "    total += cadena.count(vocal)\n",
    "print(\"Vocales totales:\", total)\n",
    "\n"
   ]
  },
  {
   "cell_type": "markdown",
   "metadata": {},
   "source": [
    "#### 8. Dada la cadena `\"Python\"`, usa un bucle `for` para imprimir los caracteres en orden inverso (`n`, `o`, `h`, `t`, `y`, `P`).\n"
   ]
  },
  {
   "cell_type": "code",
   "execution_count": 77,
   "metadata": {},
   "outputs": [
    {
     "name": "stdout",
     "output_type": "stream",
     "text": [
      "n\n",
      "o\n",
      "h\n",
      "t\n",
      "y\n",
      "P\n"
     ]
    }
   ],
   "source": [
    "cadena = \"Python\"\n",
    "for carac in cadena[::-1]:\n",
    "    print(carac)"
   ]
  },
  {
   "cell_type": "markdown",
   "metadata": {},
   "source": [
    "#### 9. Dada la lista `[1, 2, 3, 4, 5]`, multiplica todos sus elementos usando un bucle `for` y almacena los resultados en una lista nueva. \n"
   ]
  },
  {
   "cell_type": "code",
   "execution_count": 101,
   "metadata": {},
   "outputs": [
    {
     "name": "stdout",
     "output_type": "stream",
     "text": [
      "[1, 2, 6, 24, 120]\n"
     ]
    }
   ],
   "source": [
    "# Original list\n",
    "numbers = [1, 2, 3, 4, 5]\n",
    "\n",
    "# Initialize the result list with the first element\n",
    "result = [numbers[0]]\n",
    "\n",
    "# Iterate over the rest of the list and multiply the elements\n",
    "for i in range(1, len(numbers)):\n",
    "    result.append(result[-1] * numbers[i])\n",
    "\n",
    "print(result)\n"
   ]
  },
  {
   "cell_type": "markdown",
   "metadata": {},
   "source": [
    "#### 10. Dada la lista `[1, 2, 3, 4, 5, 6, 7, 8, 9, 10]`, utiliza un bucle `for` para contar cuántos números son pares y cuántos son impares."
   ]
  },
  {
   "cell_type": "code",
   "execution_count": 106,
   "metadata": {},
   "outputs": [
    {
     "name": "stdout",
     "output_type": "stream",
     "text": [
      "Impares: 5\n",
      "Pares: 5\n"
     ]
    }
   ],
   "source": [
    "numeros = [1, 2, 3, 4, 5, 6, 7, 8, 9, 10]\n",
    "odd_count = 0\n",
    "even_count = 0\n",
    "\n",
    "for numero in numeros:\n",
    "    if numero % 2 != 0:\n",
    "        odd_count += 1\n",
    "    else:\n",
    "        even_count += 1\n",
    "\n",
    "print(\"Impares:\", odd_count)\n",
    "print(\"Pares:\", even_count)\n"
   ]
  },
  {
   "cell_type": "markdown",
   "metadata": {},
   "source": [
    "#### 11. Escribe un programa que solicite al usuario un número entero positivo (`n`) y calcule la suma de todos los números primos menores o iguales a `n`. Utiliza un bucle `for` para iterar sobre cada número y verifica si es primo."
   ]
  },
  {
   "cell_type": "code",
   "execution_count": 165,
   "metadata": {},
   "outputs": [
    {
     "data": {
      "text/plain": [
       "13101"
      ]
     },
     "execution_count": 165,
     "metadata": {},
     "output_type": "execute_result"
    }
   ],
   "source": [
    "def prime_check(n):\n",
    "    div_count = 0 # Conteo de divisores\n",
    "    for i in range(1,n+1):\n",
    "        if n%i == 0:\n",
    "            div_count +=1\n",
    "        if div_count >2:\n",
    "            return False\n",
    "    if div_count == 2:\n",
    "        return True\n",
    "    else:\n",
    "        return False # Se añade para contemplar div_count<2, que serían el 1 y 0, no primos\n",
    "\n",
    "\n",
    "def prime_sum(n):\n",
    "    suma = 0\n",
    "    for i in range(1,n+1):\n",
    "        if prime_check(i):\n",
    "            suma += i\n",
    "    return suma\n",
    "\n",
    "\n",
    "prime_sum(388)"
   ]
  },
  {
   "cell_type": "markdown",
   "metadata": {},
   "source": [
    "#### 12. Escribe un programa que solicite al usuario un número entero positivo (`n`) y luego imprima un patrón de asteriscos como el siguiente ejemplo para `n = 5`:\n",
    "```\n",
    "*\n",
    "**\n",
    "***\n",
    "****\n",
    "*****\n",
    "```\n",
    "Utiliza un bucle `for` anidado para controlar la cantidad de asteriscos en cada línea."
   ]
  },
  {
   "cell_type": "code",
   "execution_count": 180,
   "metadata": {},
   "outputs": [
    {
     "name": "stdout",
     "output_type": "stream",
     "text": [
      "*\n",
      "**\n",
      "***\n",
      "****\n",
      "*****\n",
      "******\n",
      "*******\n",
      "********\n"
     ]
    }
   ],
   "source": [
    "def piramide(n=()):\n",
    "    if not n:\n",
    "        n = int(input(\"Introduce un número entero positivo: \"))\n",
    "    for i in range(1, n+1):\n",
    "        for j in range(i):\n",
    "            print('*', end='')\n",
    "        print() \n",
    "\n",
    "piramide(8)"
   ]
  },
  {
   "cell_type": "code",
   "execution_count": 185,
   "metadata": {},
   "outputs": [
    {
     "name": "stdout",
     "output_type": "stream",
     "text": [
      "*\n",
      "**\n",
      "***\n",
      "****\n",
      "*****\n",
      "******\n",
      "*******\n",
      "********\n"
     ]
    }
   ],
   "source": [
    "# se podría hacer de forma más simple sin anidar\n",
    "def piramide2(n=()):\n",
    "    if not n:\n",
    "        n = int(input(\"Introduce un número entero positivo: \"))\n",
    "    for i in range(1,n+1):\n",
    "        print(i*\"*\")\n",
    "\n",
    "piramide2(8)"
   ]
  },
  {
   "cell_type": "markdown",
   "metadata": {},
   "source": [
    "#### 13. Dado un texto, utiliza un bucle `for` para contar cuántas veces aparece cada palabra en el texto. Ignora mayúsculas/minúsculas y los signos de puntuación."
   ]
  },
  {
   "cell_type": "code",
   "execution_count": 199,
   "metadata": {},
   "outputs": [
    {
     "name": "stdout",
     "output_type": "stream",
     "text": [
      "La palabra \"hola\" aparece 2 veces.\n",
      "La palabra \"me\" aparece 1 veces.\n",
      "La palabra \"llamo\" aparece 1 veces.\n",
      "La palabra \"ramón\" aparece 2 veces.\n",
      "La palabra \"cómo\" aparece 1 veces.\n",
      "La palabra \"te\" aparece 2 veces.\n",
      "La palabra \"llamas\" aparece 2 veces.\n",
      "La palabra \"tú\" aparece 1 veces.\n",
      "La palabra \"soy\" aparece 1 veces.\n",
      "La palabra \"paco\" aparece 1 veces.\n",
      "La palabra \"como\" aparece 1 veces.\n",
      "La palabra \"mi\" aparece 1 veces.\n",
      "La palabra \"padre\" aparece 1 veces.\n"
     ]
    }
   ],
   "source": [
    "text = \"Hola me llamo Ramón, ¿cómo te llamas tú? Hola Ramón, soy Paco! Te llamas como mi padre.\"\n",
    "punc = '''!()-[]{};:'\"\\,<>./?@#$%^&*_~¿¡'''\n",
    "text_clean=\" \"\n",
    "freq = {}\n",
    "for char in text:\n",
    "    if char not in punc:\n",
    "        text_clean+=char\n",
    "words = text_clean.lower().split()\n",
    "for word in words:\n",
    "    if word in freq:\n",
    "        freq[word] +=1\n",
    "    else:\n",
    "        freq[word] = 1\n",
    "\n",
    "for word, repetition in freq.items():\n",
    "    print(f\"La palabra \\\"{word}\\\" aparece {repetition} veces.\")"
   ]
  },
  {
   "cell_type": "markdown",
   "metadata": {},
   "source": [
    "#### 14. Escribe un programa que solicite al usuario dos números enteros positivos (`inicio` y `fin`, donde `inicio <= fin`) y luego calcule la suma de los números pares y la suma de los números impares en ese rango. Utiliza un bucle `for` para iterar sobre cada número y una estructura `if-else` para clasificar y sumar los números pares e impares."
   ]
  },
  {
   "cell_type": "code",
   "execution_count": 225,
   "metadata": {},
   "outputs": [],
   "source": [
    "def even_odd_sum(a = (), b = ()):\n",
    "    even_sum = 0\n",
    "    odd_sum = 0\n",
    "    if not a and not b:\n",
    "        a, b = map(int, input(\"Dos números separados por una coma: \").split(sep=\",\"))\n",
    "    inicio, fin = min(a,b), max(a,b)\n",
    "    for i in range(inicio, fin+1):\n",
    "        if i%2 == 0:\n",
    "            even_sum += i\n",
    "        else:\n",
    "            odd_sum += i\n",
    "    return even_sum, odd_sum"
   ]
  },
  {
   "cell_type": "code",
   "execution_count": 229,
   "metadata": {},
   "outputs": [
    {
     "name": "stdout",
     "output_type": "stream",
     "text": [
      "La suma de pares: 850 \n",
      "La suma de impares: 867\n"
     ]
    }
   ],
   "source": [
    "evens, odds = even_odd_sum(67,34)\n",
    "print(f\"La suma de pares: {evens} \\nLa suma de impares: {odds}\")"
   ]
  },
  {
   "cell_type": "markdown",
   "metadata": {},
   "source": [
    "#### 15. Escribe un programa que solicite al usuario un número entero positivo (`n`) y luego identifique todos los números primos menores o iguales a `n`. Para cada número, imprime si es primo o no usando un bucle `for` y una estructura `if-else` para verificar la condición de primalidad."
   ]
  },
  {
   "cell_type": "code",
   "execution_count": 236,
   "metadata": {},
   "outputs": [],
   "source": [
    "# Función creada previamente\n",
    "def prime_check(n):\n",
    "    div_count = 0 # Conteo de divisores\n",
    "    for i in range(1,n+1):\n",
    "        if n%i == 0:\n",
    "            div_count +=1\n",
    "        if div_count >2:\n",
    "            return False\n",
    "    if div_count == 2:\n",
    "        return True\n",
    "    else:\n",
    "        return False # Se añade para contemplar div_count<2, que serían el 1 y 0, no primos"
   ]
  },
  {
   "cell_type": "code",
   "execution_count": 239,
   "metadata": {},
   "outputs": [
    {
     "name": "stdout",
     "output_type": "stream",
     "text": [
      "0 no es primo.\n",
      "1 no es primo.\n",
      "2 es primo.\n",
      "3 es primo.\n",
      "4 no es primo.\n",
      "5 es primo.\n",
      "6 no es primo.\n",
      "7 es primo.\n",
      "8 no es primo.\n",
      "9 no es primo.\n",
      "10 no es primo.\n",
      "11 es primo.\n",
      "12 no es primo.\n",
      "13 es primo.\n",
      "14 no es primo.\n",
      "15 no es primo.\n",
      "16 no es primo.\n",
      "17 es primo.\n",
      "18 no es primo.\n",
      "19 es primo.\n",
      "20 no es primo.\n",
      "21 no es primo.\n",
      "22 no es primo.\n",
      "23 es primo.\n",
      "24 no es primo.\n",
      "25 no es primo.\n"
     ]
    }
   ],
   "source": [
    "n = 25\n",
    "for i in range(n+1):\n",
    "    if prime_check(i):\n",
    "        print(f\"{i} es primo.\")\n",
    "    else:\n",
    "        print(f\"{i} no es primo.\")\n",
    "    "
   ]
  },
  {
   "cell_type": "markdown",
   "metadata": {},
   "source": [
    "#### 16.Dada una lista de precios `[100, 200, 300, 400, 500]`, aplica un descuento del 10% a todos los precios mayores a `250`. Imprime la lista actualizada de precios después de aplicar el descuento utilizando un bucle `for`. "
   ]
  },
  {
   "cell_type": "code",
   "execution_count": 247,
   "metadata": {},
   "outputs": [
    {
     "name": "stdout",
     "output_type": "stream",
     "text": [
      "Precios actualizados: [100, 200, 270.0, 360.0, 450.0]\n"
     ]
    }
   ],
   "source": [
    "prices = [100, 200, 300, 400, 500]\n",
    "for index, price in enumerate(prices):\n",
    "    if price > 250:\n",
    "        prices[index] = price*0.9\n",
    "print(\"Precios actualizados:\", prices)"
   ]
  },
  {
   "cell_type": "markdown",
   "metadata": {},
   "source": [
    "#### 17. Dada una lista de calificaciones de estudiantes `[85, 92, 78, 90, 88]`, clasifica a cada estudiante como \"Aprobado\" si la calificación es mayor o igual a `80` y como \"Reprobado\" si es menor a `80`. Imprime el nombre de cada estudiante junto con su estado utilizando un bucle `for` y una estructura `if-else`.\n"
   ]
  },
  {
   "cell_type": "code",
   "execution_count": 263,
   "metadata": {},
   "outputs": [
    {
     "name": "stdout",
     "output_type": "stream",
     "text": [
      "Nota de Alumno 1: Aprobado\n",
      "Nota de Alumno 2: Aprobado\n",
      "Nota de Alumno 3: Reprobado\n",
      "Nota de Alumno 4: Aprobado\n",
      "Nota de Alumno 5: Aprobado\n"
     ]
    }
   ],
   "source": [
    "notas = [85, 92, 78, 90, 88]\n",
    "calificacion = {}\n",
    "\n",
    "for i, nota in enumerate(notas):\n",
    "    alumno = f\"Alumno {i + 1}\"\n",
    "    calificacion[alumno] = \"Aprobado\" if nota >= 80 else \"Reprobado\"\n",
    "\n",
    "for alumno, estado in calificacion.items():\n",
    "    print(f\"Nota de {alumno}: {estado}\")\n"
   ]
  },
  {
   "cell_type": "markdown",
   "metadata": {},
   "source": [
    "\n",
    "#### 18. Escribe un programa que solicite al usuario dos números enteros positivos (`inicio`, `fin`) y otro número entero positivo (`divisor`). Encuentra el número más grande en el rango desde `inicio` hasta `fin` que sea divisible por `divisor`. Utiliza un bucle `for` y una estructura `if-else` para verificar y mantener el registro del número más grande divisible por el divisor dado.\n"
   ]
  },
  {
   "cell_type": "code",
   "execution_count": 280,
   "metadata": {},
   "outputs": [
    {
     "name": "stdout",
     "output_type": "stream",
     "text": [
      "El número máximo divisible por 19728 es 8285760 en el intervalo [4128947,8298759].\n"
     ]
    }
   ],
   "source": [
    "def divisor_max(a = (), b = (), divisor = ()):\n",
    "    if not a or not b or not divisor:\n",
    "        a, b, divisor = map(int,input(\"Introduzca inicio, fin y divisor\").split(sep = \",\"))\n",
    "    inicio, fin = min(a,b), max(a,b)\n",
    "    for i in range(fin, inicio, -1): # Al empezar desde el final nos aseguramos de que el primero que sea divisible sea el mayor del rango\n",
    "        if divisor > fin:\n",
    "            print(f\"No existen números divisibles por {divisor} en el intervalo [{inicio},{fin}].\")\n",
    "            break\n",
    "        \n",
    "        elif i%divisor == 0:\n",
    "            print(f\"El número máximo divisible por {divisor} es {i} en el intervalo [{inicio},{fin}].\")\n",
    "            break\n",
    "\n",
    "divisor_max(4128947,8298759,19728)"
   ]
  }
 ],
 "metadata": {
  "kernelspec": {
   "display_name": "hackio",
   "language": "python",
   "name": "python3"
  },
  "language_info": {
   "codemirror_mode": {
    "name": "ipython",
    "version": 3
   },
   "file_extension": ".py",
   "mimetype": "text/x-python",
   "name": "python",
   "nbconvert_exporter": "python",
   "pygments_lexer": "ipython3",
   "version": "3.11.4"
  }
 },
 "nbformat": 4,
 "nbformat_minor": 2
}
