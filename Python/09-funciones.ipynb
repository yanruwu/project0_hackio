{
 "cells": [
  {
   "cell_type": "markdown",
   "metadata": {},
   "source": [
    "\n",
    "<div style=\"text-align: center;\">\n",
    "  <img src=\"https://github.com/Hack-io-Data/Imagenes/blob/main/01-LogosHackio/logo_celeste@4x.png?raw=true\" alt=\"esquema\" />\n",
    "</div>"
   ]
  },
  {
   "cell_type": "markdown",
   "metadata": {},
   "source": [
    "#### 1. Escribe una función sin parámetros que imprima el siguiente mensaje \"¡Hola! Bienvenido.\"\n"
   ]
  },
  {
   "cell_type": "code",
   "execution_count": 4,
   "metadata": {},
   "outputs": [
    {
     "name": "stdout",
     "output_type": "stream",
     "text": [
      "¡Hola! Bienvenido.\n"
     ]
    }
   ],
   "source": [
    "def saludo():\n",
    "    print(\"¡Hola! Bienvenido.\")\n",
    "\n",
    "\n",
    "saludo()"
   ]
  },
  {
   "cell_type": "markdown",
   "metadata": {},
   "source": [
    "#### 2. Escribe una función que reciba dos parámetros y devuelva la suma de ambos.\n"
   ]
  },
  {
   "cell_type": "code",
   "execution_count": 5,
   "metadata": {},
   "outputs": [
    {
     "data": {
      "text/plain": [
       "635"
      ]
     },
     "execution_count": 5,
     "metadata": {},
     "output_type": "execute_result"
    }
   ],
   "source": [
    "def sumados(a,b):\n",
    "    return a+b\n",
    "\n",
    "sumados(123,512)"
   ]
  },
  {
   "cell_type": "markdown",
   "metadata": {},
   "source": [
    "#### 3. Escribe una función que reciba un número y devuelva True si es par, False si no lo es."
   ]
  },
  {
   "cell_type": "code",
   "execution_count": 6,
   "metadata": {},
   "outputs": [
    {
     "data": {
      "text/plain": [
       "'Odd'"
      ]
     },
     "execution_count": 6,
     "metadata": {},
     "output_type": "execute_result"
    }
   ],
   "source": [
    "def parity(x):\n",
    "    if type(x) != int:\n",
    "        raise TypeError(\"Invalid input type\")\n",
    "    return \"Even\" if x % 2 == 0 else \"Odd\"\n",
    "\n",
    "parity(18237)"
   ]
  },
  {
   "cell_type": "markdown",
   "metadata": {},
   "source": [
    "#### 4. Escribe un función que devuelva un saludo personalizado a una persona dado su nombre. \n"
   ]
  },
  {
   "cell_type": "code",
   "execution_count": 8,
   "metadata": {},
   "outputs": [
    {
     "data": {
      "text/plain": [
       "'Hola Eustaquio, encantado de conocerte!'"
      ]
     },
     "execution_count": 8,
     "metadata": {},
     "output_type": "execute_result"
    }
   ],
   "source": [
    "def greeting(name = ()):\n",
    "    if not name:\n",
    "        name = input(\"Introduzca su nombre:\")\n",
    "    return f\"Hola {name}, un easter egg para vosotros!\" if name == \"Hackio\" else f\"Hola {name}, encantado de conocerte!\"\n",
    "\n",
    "greeting(\"Eustaquio\")"
   ]
  },
  {
   "cell_type": "markdown",
   "metadata": {},
   "source": [
    "#### 5. Escribe una función que sume todos los números que reciba como argumento. La función debe recibir una cantidad variable de argumentos y devolver la suma de todos ellos."
   ]
  },
  {
   "cell_type": "code",
   "execution_count": 12,
   "metadata": {},
   "outputs": [
    {
     "data": {
      "text/plain": [
       "164"
      ]
     },
     "execution_count": 12,
     "metadata": {},
     "output_type": "execute_result"
    }
   ],
   "source": [
    "def sum_all(*args):\n",
    "    return sum(args)\n",
    "\n",
    "sum_all(1,2,4,5,1,3,5,1,3,6,1,2,5,2,1,3,5,9,94,5,6)"
   ]
  },
  {
   "cell_type": "markdown",
   "metadata": {},
   "source": [
    "#### 6. Escribe una función que cuente las letras de una palabra y devuelva un diccionario con la cantidad de veces que se repite cada letra \n"
   ]
  },
  {
   "cell_type": "code",
   "execution_count": 22,
   "metadata": {},
   "outputs": [
    {
     "data": {
      "text/plain": [
       "{'l': 20,\n",
       " 'o': 15,\n",
       " 'r': 27,\n",
       " 'e': 45,\n",
       " 'm': 28,\n",
       " 'i': 50,\n",
       " 'p': 15,\n",
       " 's': 37,\n",
       " 'u': 47,\n",
       " 'd': 12,\n",
       " 't': 35,\n",
       " 'a': 34,\n",
       " 'c': 22,\n",
       " 'n': 23,\n",
       " 'g': 4,\n",
       " 'b': 8,\n",
       " 'v': 7,\n",
       " 'h': 3,\n",
       " 'f': 7}"
      ]
     },
     "execution_count": 22,
     "metadata": {},
     "output_type": "execute_result"
    }
   ],
   "source": [
    "def letter_count(text):\n",
    "    conteo = {}\n",
    "    for letra in text.lower():\n",
    "        if letra.isalpha():\n",
    "            if letra in conteo:\n",
    "                conteo[letra] += 1\n",
    "            else:\n",
    "                conteo[letra] = 1\n",
    "    return conteo\n",
    "\n",
    "texto = '''\n",
    "Lorem ipsum dolor sit amet, consectetur adipiscing elit. Curabitur mattis tempus ipsum. \n",
    "Curabitur tincidunt sapien vitae libero pulvinar, id vehicula sapien lobortis. Maecenas a fermentum ligula, nec consectetur lorem.\n",
    "Ut ultrices urna vitae purus finibus mattis. Mauris rutrum, massa vel posuere tempor, \n",
    "sem purus congue massa, a vehicula diam dui eleifend magna. Duis lacus mi, dictum ut elementum sit amet, \n",
    "ehicula ut ipsum. Fusce varius lectus ac nisi condimentum, id finibus elit posuere. Morbi ac purus at turpis finibus eleifend.\n",
    "'''\n",
    "\n",
    "letter_count(texto)"
   ]
  },
  {
   "cell_type": "markdown",
   "metadata": {},
   "source": [
    "#### 7. Escribe un función recursiva para calcular el factorial de un número entero no negativo."
   ]
  },
  {
   "cell_type": "code",
   "execution_count": 36,
   "metadata": {},
   "outputs": [
    {
     "data": {
      "text/plain": [
       "3628800"
      ]
     },
     "execution_count": 36,
     "metadata": {},
     "output_type": "execute_result"
    }
   ],
   "source": [
    "def factorial(n):\n",
    "    if not type(n) == int or n < 0:\n",
    "        raise ValueError(\"Introduzca un entero no negativo\")\n",
    "    fact = 1\n",
    "    for i in range(1,n+1):\n",
    "        fact = fact*i\n",
    "    return fact\n",
    "\n",
    "factorial(10)"
   ]
  },
  {
   "cell_type": "markdown",
   "metadata": {},
   "source": [
    "#### 8. Escribe una función que tome dos parámetros: `figura` (una cadena que puede ser `\"rectangulo\"`, `\"circulo\"` o `\"triangulo\"`) y `datos` (una tupla con los datos necesarios para calcular el área de la figura). "
   ]
  },
  {
   "cell_type": "code",
   "execution_count": 49,
   "metadata": {},
   "outputs": [
    {
     "name": "stdout",
     "output_type": "stream",
     "text": [
      "Área de círculo de r = 2 m, A = 12.57 m^2\n",
      "Área de rectángulo de b = 3 m, h = 4 m, A = 12 m^2\n",
      "Área de triángulo de b = 3 m, h = 4 m, A = 6.0 m^2\n"
     ]
    }
   ],
   "source": [
    "import numpy as np\n",
    "\n",
    "\n",
    "def area(fig, datos):\n",
    "    formulas = {\n",
    "        \"rectangulo\": lambda b, h: b * h,\n",
    "        \"circulo\": lambda r: np.pi * r**2,\n",
    "        \"triangulo\": lambda b, h: (b * h) / 2\n",
    "    }\n",
    "    return formulas[fig](*datos)\n",
    "\n",
    "\n",
    "print(f'Área de círculo de r = 2 m, A = {round(area(\"circulo\", [2]), ndigits = 2)} m^2')\n",
    "print(f'Área de rectángulo de b = 3 m, h = 4 m, A = {area(\"rectangulo\", [3, 4])} m^2')\n",
    "print(f'Área de triángulo de b = 3 m, h = 4 m, A = {area(\"triangulo\", [3, 4])} m^2')"
   ]
  },
  {
   "cell_type": "markdown",
   "metadata": {},
   "source": [
    "#### 9. Escribe una función que tome una lista de números como parámetro y devuelva el número más grande de la lista. No utilices la función `max()` de Python en tu solución."
   ]
  },
  {
   "cell_type": "code",
   "execution_count": 62,
   "metadata": {},
   "outputs": [],
   "source": [
    "def maximo(lista):\n",
    "    if not lista: \n",
    "        return None \n",
    "    maximo_actual = lista[0]\n",
    "    for numero in lista:\n",
    "        if numero > maximo_actual:\n",
    "            maximo_actual = numero\n",
    "    return maximo_actual\n",
    "\n"
   ]
  },
  {
   "cell_type": "code",
   "execution_count": 149,
   "metadata": {},
   "outputs": [
    {
     "name": "stdout",
     "output_type": "stream",
     "text": [
      "La lista: [417, 641, 690, -621, 889, 666, -408, -995, 604, -704, -404, 180, -860, 689, -105, 799, 707, 510, -834, -378, 226, 242, -823, -659, 184, -824, 143, 483, -327, 91, -382, -339, 865, -4, 233, -808, 890, 790, -783, 384, 224, 337, -213, 54, 300, -655, -846, -499, -87, 46, -846, -603, -545, -501, 532, 917, 309, 174, -32, 390, -404, 214, -890, 88, 139, -381, -662, 392, -706, 668, 764, -876, -784, 174, -570, 769, 73, -706, -608, -843, -493, -819, -118, 17, 498, -859, -612, -276, -911, 597, 304, -54, 858, 242, -116, 333, 112, 592, 18, 30]\n",
      "Máximo de la lista: 917\n"
     ]
    }
   ],
   "source": [
    "import random as rand\n",
    "lista = []\n",
    "for i in range(100):\n",
    "    lista.append(rand.randint(-1000,1000))\n",
    "\n",
    "print(\"La lista:\", lista)\n",
    "print(\"Máximo de la lista:\", maximo(lista))"
   ]
  },
  {
   "cell_type": "markdown",
   "metadata": {},
   "source": [
    "#### 10. Escribe una función que tome una cadena como parámetro un texto y devuelva `True` si la cadena es un palíndromo (se lee igual de izquierda a derecha que de derecha a izquierda), y `False` en caso contrario. Ignora los espacios y considera mayúsculas y minúsculas de manera insensible.\n"
   ]
  },
  {
   "cell_type": "code",
   "execution_count": 179,
   "metadata": {},
   "outputs": [
    {
     "name": "stdout",
     "output_type": "stream",
     "text": [
      "El texto, \"Anita, lava la tina.\" Es palíndromo? True\n",
      "El texto, \"Anita no lava la tina.\" Es palíndromo? False\n"
     ]
    }
   ],
   "source": [
    "def palindromo(texto):\n",
    "    cadena_clean = [char.lower() for char in texto if char.isalpha()]\n",
    "    return cadena_clean == cadena_clean[::-1]\n",
    "\n",
    "texto = \"Anita, lava la tina.\"\n",
    "print(f\"El texto, \\\"{texto}\\\" Es palíndromo? {palindromo(texto)}\")\n",
    "\n",
    "texto2 = \"Anita no lava la tina.\"\n",
    "print(f\"El texto, \\\"{texto2}\\\" Es palíndromo? {palindromo(texto2)}\")"
   ]
  },
  {
   "cell_type": "markdown",
   "metadata": {},
   "source": [
    "#### 11. Escribe una función que tome una cadena como parámetro y devuelva dos valores: la cantidad de vocales y la cantidad de consonantes presentes en la cadena. Ignora los espacios y considera mayúsculas y minúsculas de manera insensible.\n"
   ]
  },
  {
   "cell_type": "code",
   "execution_count": 205,
   "metadata": {},
   "outputs": [
    {
     "name": "stdout",
     "output_type": "stream",
     "text": [
      "Vocales: 14 \n",
      "Consonantes: 23\n"
     ]
    }
   ],
   "source": [
    "def conteo_letras(texto):\n",
    "    vocales = \"aeiou\"\n",
    "    vocal_count = 0\n",
    "    consonante_count = 0\n",
    "    cadena_clean = [char.lower() for char in texto if char.isalpha()]\n",
    "    for char in cadena_clean:\n",
    "        if char in vocales:\n",
    "            vocal_count += 1\n",
    "        else:\n",
    "            consonante_count +=1\n",
    "    return vocal_count, consonante_count\n",
    "        \n",
    "texto = \"Vamos a contar las vocales y las consonantes\"\n",
    "print(f'Vocales: {conteo_letras(texto)[0]} \\nConsonantes: {conteo_letras(texto)[1]}')"
   ]
  }
 ],
 "metadata": {
  "kernelspec": {
   "display_name": "hackio",
   "language": "python",
   "name": "python3"
  },
  "language_info": {
   "codemirror_mode": {
    "name": "ipython",
    "version": 3
   },
   "file_extension": ".py",
   "mimetype": "text/x-python",
   "name": "python",
   "nbconvert_exporter": "python",
   "pygments_lexer": "ipython3",
   "version": "3.11.4"
  }
 },
 "nbformat": 4,
 "nbformat_minor": 2
}
