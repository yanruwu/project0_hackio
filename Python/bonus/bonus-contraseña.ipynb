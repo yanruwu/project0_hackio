{
 "cells": [
  {
   "cell_type": "markdown",
   "metadata": {},
   "source": [
    "<div style=\"text-align: center;\">\n",
    "  <img src=\"https://github.com/Hack-io-Data/Imagenes/blob/main/01-LogosHackio/logo_celeste@4x.png?raw=true\" alt=\"esquema\" />\n",
    "</div>\n"
   ]
  },
  {
   "cell_type": "markdown",
   "metadata": {},
   "source": [
    "# Comprobación de calidad de contraseñas\n",
    "\n",
    "En este ejercicio, tendrás que generar un programa que sea capaz de comprobar la calidad de contraseñas. La seguridad de nuestras contraseñas es fundamental para proteger nuestra información personal y evitar posibles ataques cibernéticos. Para ello, vamos a crear una función llamada `verificar_seguridad_contrasena` que evaluará la calidad de una contraseña. Esta función tomará como argumento la contraseña a evaluar y devolverá si la contraseña es segura o no basado en los siguientes criterios:\n",
    "\n",
    "1. La contraseña deberá tener al menos 8 caracteres.\n",
    "\n",
    "2. La contraseña deberá tener al menos una letra mayúscula.\n",
    "\n",
    "3. La contraseña deberá tener al menos una letra minúscula. \n",
    "\n",
    "4. La contraseña deberá tener al menos un número. \n",
    "\n",
    "5. La contraseña deberá tener al menos un caracter especial. \n",
    "\n",
    "6. La contraseña no deberá tener espacios en blanco. \n",
    "\n",
    "7. La contraseña no deberá tener caracteres repetidos. \n"
   ]
  },
  {
   "cell_type": "code",
   "execution_count": 71,
   "metadata": {},
   "outputs": [],
   "source": [
    "def verificar_seguridad_contrasena(password = ()):\n",
    "    if not password:\n",
    "        password = str(input(\"Introduzca una contraseña\"))\n",
    "    special_characters = \"!@#$%^&*()-_=+[]{}|;:',.<>?/\"\n",
    "    if len(password) < 8:\n",
    "        return \"Insegura, debe tener al menos 8 caracteres\"\n",
    "    if not any(char.isupper() for char in password):\n",
    "        return \"Insegura, debe tener al menos 1 mayúscula\"\n",
    "    if not any(char.islower() for char in password):\n",
    "        return \"Insegura, debe tener al menos 1 minúscula\"\n",
    "    if not any(char.isnumeric() for char in password):\n",
    "        return \"Insegura, debe tener al menos 1 número\"\n",
    "    if not any(char in special_characters for char in password):\n",
    "        return \"Insegura, debe tener al menos 1 caracter especial\"\n",
    "    if any(char.isspace() for char in password):\n",
    "        return \"Insegura, no debe contener espacios\"\n",
    "    charcount = {}\n",
    "    for char in password:\n",
    "        if char not in charcount:\n",
    "            charcount[char] = 1\n",
    "        else:\n",
    "            charcount[char] += 1\n",
    "    if any(value >= 2 for value in charcount.values()):\n",
    "        return \"Insegura, no debe de haber caracteres repetidos\"\n",
    "    return \"Contraseña segura!\"\n",
    "   "
   ]
  },
  {
   "cell_type": "code",
   "execution_count": 75,
   "metadata": {},
   "outputs": [
    {
     "name": "stdout",
     "output_type": "stream",
     "text": [
      "Insegura, debe tener al menos 8 caracteres\n",
      "Insegura, debe tener al menos 1 mayúscula\n",
      "Insegura, debe tener al menos 1 minúscula\n",
      "Insegura, debe tener al menos 1 caracter especial\n",
      "Insegura, no debe contener espacios\n",
      "Insegura, no debe de haber caracteres repetidos\n",
      "Contraseña segura!\n"
     ]
    }
   ],
   "source": [
    "print(verificar_seguridad_contrasena(\"123456\"))\n",
    "print(verificar_seguridad_contrasena(\"12345678\"))\n",
    "print(verificar_seguridad_contrasena(\"12345678A\"))\n",
    "print(verificar_seguridad_contrasena(\"12345678Abb\"))\n",
    "print(verificar_seguridad_contrasena(\"12345678Abb !\"))\n",
    "print(verificar_seguridad_contrasena(\"12345678Abb!\"))\n",
    "print(verificar_seguridad_contrasena(\"12345678Ab!\"))"
   ]
  }
 ],
 "metadata": {
  "kernelspec": {
   "display_name": "hackio",
   "language": "python",
   "name": "python3"
  },
  "language_info": {
   "codemirror_mode": {
    "name": "ipython",
    "version": 3
   },
   "file_extension": ".py",
   "mimetype": "text/x-python",
   "name": "python",
   "nbconvert_exporter": "python",
   "pygments_lexer": "ipython3",
   "version": "3.11.4"
  }
 },
 "nbformat": 4,
 "nbformat_minor": 2
}
