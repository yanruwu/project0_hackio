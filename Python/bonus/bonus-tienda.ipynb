{
 "cells": [
  {
   "cell_type": "markdown",
   "metadata": {},
   "source": [
    "<div style=\"text-align: center;\">\n",
    "  <img src=\"https://github.com/Hack-io-Data/Imagenes/blob/main/01-LogosHackio/logo_celeste@4x.png?raw=true\" alt=\"esquema\" />\n",
    "</div>\n"
   ]
  },
  {
   "cell_type": "markdown",
   "metadata": {},
   "source": [
    "En este ejercicio, se te pedirá que escribas un programa en Python que utilice condicionales para determinar el monto final de una compra en una tienda en línea, después de aplicar un descuento. El programa debe hacer lo siguiente:\n",
    "\n",
    "1. Solicita al usuario que ingrese el precio original de un artículo.\n",
    "\n",
    "2. Pregunta al usuario si tiene un cupón de descuento (respuesta sí o no).\n",
    "\n",
    "3. Si el usuario responde que sí, solicita que ingrese el valor del cupón de descuento.\n",
    "\n",
    "4. Aplica el descuento al precio original del artículo, siempre y cuando el valor del cupón sea válido (es decir, mayor a cero). Por ejemplo, descuento de 15€. \n",
    "\n",
    "5. Muestra el precio final de la compra, teniendo en cuenta el descuento aplicado o sin él. \n",
    "\n",
    "6. Recuerda utilizar estructuras de control de flujo como if, elif y else para llevar a cabo estas acciones en tu programa de Python."
   ]
  },
  {
   "cell_type": "code",
   "execution_count": 41,
   "metadata": {},
   "outputs": [],
   "source": [
    "def cupon():\n",
    "    og_value = float(input(\"Ingrese el precio original del artículo\"))\n",
    "    while True:\n",
    "        disc_bool = input(\"¿Tiene un cupón de descuento? (Y/N)\")\n",
    "        if disc_bool == \"Y\" or disc_bool == \"y\":\n",
    "            while True:\n",
    "                discount = float(input(\"Introduzca el valor del descuento (mayor que 0)\"))\n",
    "                if discount > 0:\n",
    "                    break\n",
    "                else:\n",
    "                    continue\n",
    "            break\n",
    "        elif disc_bool == \"N\" or disc_bool == \"n\":\n",
    "            discount = 0\n",
    "            break\n",
    "        else:\n",
    "            continue\n",
    "    if discount != 0:\n",
    "        return print(\"El precio de compra con descuento será:\", round(og_value-discount, ndigits=2), \"€\\nEl precio de compra sin descuento será:\", og_value, \"€\")\n",
    "    else:\n",
    "        return print(\"El precio de compra se mantiene en:\", round(og_value, ndigits=2), \"€\")\n",
    "   "
   ]
  },
  {
   "cell_type": "code",
   "execution_count": 33,
   "metadata": {},
   "outputs": [
    {
     "name": "stdout",
     "output_type": "stream",
     "text": [
      "El precio de compra con descuento será: 17.0 €\n",
      "El precio de compra sin descuento será: 19.99 €\n"
     ]
    }
   ],
   "source": [
    "cupon()"
   ]
  },
  {
   "cell_type": "markdown",
   "metadata": {},
   "source": [
    "Modifica el programa anterior para que el usuario ingrese un porcentaje de descuento en lugar de un valor fijo (por ejemplo, 30%). Aplica el descuento en base al porcentaje ingresado."
   ]
  },
  {
   "cell_type": "code",
   "execution_count": 42,
   "metadata": {},
   "outputs": [],
   "source": [
    "def cupon2():\n",
    "    og_value = float(input(\"Ingrese el precio original del artículo\"))\n",
    "    while True:\n",
    "        disc_bool = input(\"¿Tiene un cupón de descuento? (Y/N)\")\n",
    "        if disc_bool == \"Y\" or disc_bool == \"y\":\n",
    "            while True:\n",
    "                discount = float(input(\"Introduzca el porcentaje del descuento (mayor que 0%)\"))\n",
    "                if discount > 0:\n",
    "                    break\n",
    "                else:\n",
    "                    continue\n",
    "            break\n",
    "        elif disc_bool == \"N\" or disc_bool == \"n\":\n",
    "            discount = 0\n",
    "            break\n",
    "        else:\n",
    "            continue\n",
    "    if discount != 0:\n",
    "        return print(\"El precio de compra con descuento será:\", round(og_value-og_value*discount/100, ndigits=2), \"€\\nEl precio de compra sin descuento será:\", og_value, \"€\")\n",
    "    else:\n",
    "        return print(\"El precio de compra se mantiene en:\", round(og_value, ndigits=2), \"€\")\n",
    "   "
   ]
  },
  {
   "cell_type": "code",
   "execution_count": 45,
   "metadata": {},
   "outputs": [
    {
     "name": "stdout",
     "output_type": "stream",
     "text": [
      "El precio de compra con descuento será: 34.0 €\n",
      "El precio de compra sin descuento será: 100.0 €\n"
     ]
    }
   ],
   "source": [
    "cupon2()"
   ]
  },
  {
   "cell_type": "markdown",
   "metadata": {},
   "source": [
    "Modifica el programa anterior agregando un límite al descuento, donde el descuento mínimo sea del 5% y el máximo del 50%. Si el usuario ingresa un porcentaje fuera de este rango, notifíquele y aplique el descuento mínimo o máximo según sea el caso."
   ]
  },
  {
   "cell_type": "code",
   "execution_count": 50,
   "metadata": {},
   "outputs": [],
   "source": [
    "def cupon3():\n",
    "    og_value = float(input(\"Ingrese el precio original del artículo\"))\n",
    "    while True:\n",
    "        disc_bool = input(\"¿Tiene un cupón de descuento? (Y/N)\")\n",
    "        if disc_bool == \"Y\" or disc_bool == \"y\":\n",
    "            while True:\n",
    "                discount = float(input(\"Introduzca el porcentaje del descuento (5-50%)\"))\n",
    "                if 5 >= discount >= 50:\n",
    "                    break\n",
    "                elif discount > 50:\n",
    "                    discount = 50\n",
    "                    print(\"El descuento supera el máximo, se aplicará el descuento máximo del 50%\")\n",
    "                    break\n",
    "                elif discount < 5:\n",
    "                    discount = 5\n",
    "                    print(\"El descuento está por debajo del mínimo, se aplicará el descuento mínimo del 5%\")                    \n",
    "                    break\n",
    "                else:\n",
    "                    continue\n",
    "            break\n",
    "        elif disc_bool == \"N\" or disc_bool == \"n\":\n",
    "            discount = 0\n",
    "            break\n",
    "        else:\n",
    "            continue\n",
    "    if discount != 0:\n",
    "        return print(\"El precio de compra con descuento será:\", round(og_value-og_value*discount/100, ndigits=2), \"€\\nEl precio de compra sin descuento será:\", og_value, \"€\")\n",
    "    else:\n",
    "        return print(\"El precio de compra se mantiene en:\", round(og_value, ndigits=2), \"€\")\n",
    "   "
   ]
  },
  {
   "cell_type": "code",
   "execution_count": 51,
   "metadata": {},
   "outputs": [
    {
     "name": "stdout",
     "output_type": "stream",
     "text": [
      "El descuento supera el máximo, se aplicará el descuento máximo del 50%\n",
      "El precio de compra con descuento será: 28390.0 €\n",
      "El precio de compra sin descuento será: 56780.0 €\n"
     ]
    }
   ],
   "source": [
    "cupon3()"
   ]
  },
  {
   "cell_type": "markdown",
   "metadata": {},
   "source": [
    "Crea un programa nuevo que permita al usuario ingresar varios artículos, cada uno con su precio original y cupón de descuento. Aplica los descuentos correspondientes a cada producto y muestra el monto total final de la compra."
   ]
  },
  {
   "cell_type": "code",
   "execution_count": 53,
   "metadata": {},
   "outputs": [],
   "source": [
    "def cupones():\n",
    "    n = int(input(\"Cuántos artículos vas a comprar?\"))\n",
    "    precios = []\n",
    "    cupones = []\n",
    "    for i in range(n):\n",
    "        precios.append(float(input(f'Introduzca el precio del artículo número {i+1}')))\n",
    "        cupones.append(float(input(f'Introduzca el cupón (%) del artículo número {i+1}')))\n",
    "    pf = [precio * (1 - (cupon / 100)) for precio, cupon in zip(precios,cupones)]\n",
    "    for i in range(n):\n",
    "        print(f'Precio final del artículo {i+1}: {pf[i]:.2f}€') # :.2f hace lo mismo que round(ndigits = 2)\n",
    "    return print(f'Monto total: {sum(pf):.2f}€.')"
   ]
  },
  {
   "cell_type": "code",
   "execution_count": 52,
   "metadata": {},
   "outputs": [
    {
     "name": "stdout",
     "output_type": "stream",
     "text": [
      "Precio final del artículo 1: 41.39€\n",
      "Precio final del artículo 2: 33.25€\n",
      "Precio final del artículo 3: 14.28€\n",
      "Precio final del artículo 4: 2.00€\n",
      "Monto total: 90.92€.\n"
     ]
    }
   ],
   "source": [
    "# Digamos 4 artículos:\n",
    "# Cuestan [45.99, 35, 17.85, 3.99]\n",
    "# Cupones [10, 5, 20, 50]%\n",
    "cupones()"
   ]
  },
  {
   "cell_type": "markdown",
   "metadata": {},
   "source": [
    "Crea un nuevo programa que permita aplicar descuentos por categorías. En este caso, nuestra tienda aplicará descuentos en función de la categoría (por ejemplo, electrónica, ropa, juguetes). Pregunta al usuario a que categoría pertenece su producto y aplica el descuento correspondiente a la categoría. Debes solicitar al usuario que ingrese la categoría del articulo y el precio para aplicarle el descuento. "
   ]
  },
  {
   "cell_type": "code",
   "execution_count": 57,
   "metadata": {},
   "outputs": [
    {
     "name": "stdout",
     "output_type": "stream",
     "text": [
      "El precio original es: 99.00€\n",
      "Se ha aplicado un 25.0% de descuento.\n",
      "El precio final con descuento es: 74.25€\n"
     ]
    }
   ],
   "source": [
    "def cup_cat():\n",
    "    descuentos = {'electronica': 0.10, 'ropa': 0.20, 'juguetes': 0.25}\n",
    "    categoria = input(\"Ingrese la categoría del producto (electronica, ropa, juguetes): \").lower()\n",
    "    precio = float(input(\"Ingrese el precio del producto: \"))\n",
    "    \n",
    "    if categoria in descuentos:\n",
    "        descuento = descuentos[categoria]\n",
    "        precio_final = precio * (1 - descuento) \n",
    "        print(f\"El precio original es: {precio:.2f}€\")\n",
    "        print(f\"Se ha aplicado un {float(descuento*100)}% de descuento.\")\n",
    "        print(f\"El precio final con descuento es: {precio_final:.2f}€\")\n",
    "    else:\n",
    "        print(\"Categoría no válida. No se aplica descuento.\")\n",
    "        print(f\"El precio final es: {precio}€\")\n",
    "\n",
    "cup_cat()\n"
   ]
  },
  {
   "cell_type": "markdown",
   "metadata": {},
   "source": [
    "Crea un nuevo programa que aplique descuentos automáticos en función de la fecha actual. Aplica un descuento del 10% en compras realizadas entre lunes y viernes o un descuento del 15% en compras realizadas durante los fines de semana."
   ]
  },
  {
   "cell_type": "code",
   "execution_count": 77,
   "metadata": {},
   "outputs": [],
   "source": [
    "import datetime\n",
    "\n",
    "def cupon_day(hoy=None): #input opcional de día de la semana en dígito\n",
    "    dias_semana = [\"lunes\", \"martes\", \"miércoles\", \"jueves\", \"viernes\", \"sábado\", \"domingo\"]\n",
    "    if hoy == None:\n",
    "        hoy = datetime.datetime.now().weekday()\n",
    "    elif hoy not in [1,2,3,4,5,6,7]:\n",
    "        raise ValueError(\"Día no válido! (1-7)\")\n",
    "    else:\n",
    "        hoy = hoy - 1 # Corregimos para que coincida con los de la librería datetime\n",
    "    \n",
    "    descuento_semana = 0.10\n",
    "    descuento_fin_semana = 0.15\n",
    "\n",
    "\n",
    "    total_compra = float(input(\"Introduzca el monto total de su compra: €\"))\n",
    "\n",
    "    if 0 <= hoy <= 4:  \n",
    "        descuento = descuento_semana\n",
    "        print(f'Día: {dias_semana[hoy]}. Se aplica un descuento del 10% por ser día de semana.')\n",
    "    else:\n",
    "        descuento = descuento_fin_semana\n",
    "        print(f'Día: {dias_semana[hoy]}. Se aplica un descuento del 15% por ser fin de semana.')\n",
    "\n",
    "    total_final = total_compra * (1 - descuento)\n",
    "\n",
    "    print(f\"El precio final después de aplicar el descuento es: {total_final:.2f}€\")\n",
    "\n"
   ]
  },
  {
   "cell_type": "code",
   "execution_count": 78,
   "metadata": {},
   "outputs": [
    {
     "name": "stdout",
     "output_type": "stream",
     "text": [
      "Día: domingo. Se aplica un descuento del 15% por ser fin de semana.\n",
      "El precio final después de aplicar el descuento es: 29391.30€\n",
      "Día: jueves. Se aplica un descuento del 10% por ser día de semana.\n",
      "El precio final después de aplicar el descuento es: 41110.20€\n"
     ]
    }
   ],
   "source": [
    "cupon_day(7)\n",
    "\n",
    "cupon_day()"
   ]
  },
  {
   "cell_type": "markdown",
   "metadata": {},
   "source": [
    "Crea un programa nuevo que implemente un sistema de membresía donde los usuarios registrados obtengan un descuento adicional del 5%. Solicita al usuario que ingrese su nombre de usuario y contraseña para verificar su membresía y aplique el descuento adicional si corresponde. \n",
    "\n",
    "📝 Nota: Para este ejercicio solo tendremos un usuario registrado. El usuario es `USUARIO` y la contraseña es  `USUARIO123`. \n"
   ]
  },
  {
   "cell_type": "code",
   "execution_count": 113,
   "metadata": {},
   "outputs": [],
   "source": [
    "def cupon_miembro():\n",
    "    credenciales = dict(usuario = [\"USUARIO\"], password = [\"USUARIO123\"]) # Lo pongo en listas para evitar que se cumpla con subcadenas str\n",
    "    usuario = input(\"Introduzca su nombre de usuario:\")\n",
    "    descuento = 0.05\n",
    "    password = input(\"Introduzca contraseña:\")\n",
    "    if usuario not in credenciales[\"usuario\"] or password not in credenciales[\"password\"]:\n",
    "        print(\"Usuario o contraseña incorrecto. Inténtelo de nuevo.\")\n",
    "    else:\n",
    "        monto = float(input(\"Credenciales correctas. Introduzca monto total de la compra:\"))\n",
    "        monto_final = monto * (1-descuento)\n",
    "        print(f'El precio final es de {monto_final:.2f}€')\n",
    "    "
   ]
  },
  {
   "cell_type": "code",
   "execution_count": 115,
   "metadata": {},
   "outputs": [
    {
     "name": "stdout",
     "output_type": "stream",
     "text": [
      "El precio final es de 51.92€\n"
     ]
    }
   ],
   "source": [
    "# Digamos una compra de 54.65€\n",
    "cupon_miembro()"
   ]
  },
  {
   "cell_type": "code",
   "execution_count": 116,
   "metadata": {},
   "outputs": [
    {
     "name": "stdout",
     "output_type": "stream",
     "text": [
      "Usuario o contraseña incorrecto. Inténtelo de nuevo.\n"
     ]
    }
   ],
   "source": [
    "# Con credenciales incorrectas\n",
    "cupon_miembro()"
   ]
  },
  {
   "cell_type": "markdown",
   "metadata": {},
   "source": [
    "Crea un nuevo programa que ofrezca un descuento del 10% adicional si el usuario compra más de 5 artículos del mismo tipo. Debes verificar la cantidad de productos comprados y aplicar el descuento adicional si corresponde.\n"
   ]
  },
  {
   "cell_type": "code",
   "execution_count": 181,
   "metadata": {},
   "outputs": [],
   "source": [
    "def cupones5():\n",
    "    barcodes = dict(\n",
    "        barcode = [],\n",
    "        units = [],\n",
    "        price = []\n",
    "    )\n",
    "    while True:\n",
    "        barcode = input(\"Código del artículo:\")\n",
    "        units = int(input(\"Cantidad:\"))\n",
    "        price = float(input(\"Precio:\"))\n",
    "        barcodes[\"barcode\"].append(barcode)\n",
    "        barcodes[\"units\"].append(units)\n",
    "        barcodes[\"price\"].append(price)\n",
    "        answer = input(\"¿Tiene más artículos? (y/n): \").lower()\n",
    "        if answer == 'n':\n",
    "            break\n",
    "    \n",
    "    precio_final = 0\n",
    "    for i in range(len(barcodes[\"barcode\"])):\n",
    "        total_articulo = barcodes[\"units\"][i] * barcodes[\"price\"][i]\n",
    "        if barcodes[\"units\"][i] > 5:\n",
    "            total_articulo *= 0.9  \n",
    "            print(f'Artículo {barcodes[\"barcode\"][i]}: se aplica un 10% de descuento. Total: {total_articulo:.2f}€')\n",
    "        else:\n",
    "            print(f'Artículo {barcodes[\"barcode\"][i]}: sin descuento. Total: {total_articulo:.2f}€')\n",
    "        \n",
    "\n",
    "        precio_final += total_articulo\n",
    "\n",
    "            \n",
    "    print(f'El monto total queda en {precio_final:.2f}€')"
   ]
  },
  {
   "cell_type": "code",
   "execution_count": 182,
   "metadata": {},
   "outputs": [
    {
     "name": "stdout",
     "output_type": "stream",
     "text": [
      "Artículo 3489745789: sin descuento. Total: 10.50€\n",
      "Artículo 97823235: se aplica un 10% de descuento. Total: 7.56€\n",
      "Artículo 8235623567: se aplica un 10% de descuento. Total: 9.72€\n",
      "El monto total queda en 27.78€\n"
     ]
    }
   ],
   "source": [
    "cupones5()"
   ]
  },
  {
   "cell_type": "markdown",
   "metadata": {},
   "source": [
    "Crea un nuevo programa que ofrezca descuentos progresivos en función del volumen de compra. Aplica un descuento del 5% para compras entre 100€ y 200€, un descuento del 10% para compras entre 200€ y 500€ y un descuento del 15% para compras superiores a 500€."
   ]
  },
  {
   "cell_type": "code",
   "execution_count": 186,
   "metadata": {},
   "outputs": [],
   "source": [
    "def cupones_prog():\n",
    "    total_compra = 0\n",
    "    while True:\n",
    "        units = int(input(\"Ingrese la cantidad de productos: \"))\n",
    "        price = float(input(\"Ingrese el precio por producto: €\"))\n",
    "        \n",
    "        total_compra += units * price\n",
    "        \n",
    "        continuar = input(\"¿Tiene más artículos? (y/n): \").lower()\n",
    "        if continuar == 'n':\n",
    "            break\n",
    "    \n",
    "    if 100 <= total_compra < 200:\n",
    "        descuento = 0.05  \n",
    "        print(\"Se aplica un descuento del 5% por superar los 100€.\")\n",
    "    elif 200 <= total_compra < 500:\n",
    "        descuento = 0.10 \n",
    "        print(\"Se aplica un descuento del 10% por superar los 200€.\")\n",
    "    elif total_compra >= 500:\n",
    "        descuento = 0.15  \n",
    "        print(\"Se aplica un descuento del 15% por superar los 500€.\")\n",
    "    else:\n",
    "        descuento = 0  \n",
    "        print(\"No se aplica ningún descuento.\")\n",
    "    \n",
    "\n",
    "    total_final = total_compra * (1 - descuento)\n",
    "\n",
    "    print(f\"\\nTotal de la compra sin descuentos: €{total_compra:.2f}\")\n",
    "    print(f\"Total con descuentos aplicados: €{total_final:.2f}\")\n"
   ]
  },
  {
   "cell_type": "code",
   "execution_count": 187,
   "metadata": {},
   "outputs": [
    {
     "name": "stdout",
     "output_type": "stream",
     "text": [
      "Se aplica un descuento del 10% por superar los 200€.\n",
      "\n",
      "Total de la compra sin descuentos: €430.00\n",
      "Total con descuentos aplicados: €387.00\n"
     ]
    }
   ],
   "source": [
    "cupones_prog()"
   ]
  },
  {
   "cell_type": "markdown",
   "metadata": {},
   "source": [
    "Crea un nuevo programa  que ofrezca un descuento adicional del 3% si el usuario paga con tarjeta de crédito o débito. Solicita al usuario que ingrese el método de pago y el descuento original, por último aplica el descuento si corresponde."
   ]
  },
  {
   "cell_type": "code",
   "execution_count": 197,
   "metadata": {},
   "outputs": [],
   "source": [
    "def cupon_metodo():\n",
    "    monto = float(input(\"Introduzca el total de la compra\"))\n",
    "    metodos_no_disc = [\"efectivo\"]\n",
    "    metodos_disc = [\"tarjeta de débito\", \"tarjeta de crédito\"]\n",
    "    while True:\n",
    "        metodo = input(\"Seleccione método de pago (efectivo / tarjeta de débito / tarjeta de crédito)\").lower()\n",
    "        if metodo in metodos_disc:\n",
    "            discount = 0.03\n",
    "            print(f'Se aplicará un descuento adicional del 3% por pago con {metodo}.')\n",
    "            break\n",
    "        elif metodo in metodos_no_disc:\n",
    "            discount = 0\n",
    "            print(f'No se aplicará un descuento por pago con {metodo}.')\n",
    "            break\n",
    "        else:\n",
    "            print(\"Método de pago no válido\")\n",
    "            continue\n",
    "    monto_final = monto * (1-discount)\n",
    "    print(f'Total tras los descuentos: {monto_final:.2f}€')"
   ]
  },
  {
   "cell_type": "code",
   "execution_count": 199,
   "metadata": {},
   "outputs": [
    {
     "name": "stdout",
     "output_type": "stream",
     "text": [
      "No se aplicará un descuento por pago con efectivo.\n",
      "Total tras los descuentos: 124.51€\n"
     ]
    }
   ],
   "source": [
    "cupon_metodo()"
   ]
  },
  {
   "cell_type": "code",
   "execution_count": 200,
   "metadata": {},
   "outputs": [
    {
     "name": "stdout",
     "output_type": "stream",
     "text": [
      "Se aplicará un descuento adicional del 3% por pago con tarjeta de débito.\n",
      "Total tras los descuentos: 120.77€\n"
     ]
    }
   ],
   "source": [
    "cupon_metodo()"
   ]
  }
 ],
 "metadata": {
  "kernelspec": {
   "display_name": "hackio",
   "language": "python",
   "name": "python3"
  },
  "language_info": {
   "codemirror_mode": {
    "name": "ipython",
    "version": 3
   },
   "file_extension": ".py",
   "mimetype": "text/x-python",
   "name": "python",
   "nbconvert_exporter": "python",
   "pygments_lexer": "ipython3",
   "version": "3.11.4"
  }
 },
 "nbformat": 4,
 "nbformat_minor": 2
}
