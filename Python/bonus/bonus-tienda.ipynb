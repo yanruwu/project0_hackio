{
 "cells": [
  {
   "cell_type": "markdown",
   "metadata": {},
   "source": [
    "<div style=\"text-align: center;\">\n",
    "  <img src=\"https://github.com/Hack-io-Data/Imagenes/blob/main/01-LogosHackio/logo_celeste@4x.png?raw=true\" alt=\"esquema\" />\n",
    "</div>\n"
   ]
  },
  {
   "cell_type": "markdown",
   "metadata": {},
   "source": [
    "En este ejercicio, se te pedirá que escribas un programa en Python que utilice condicionales para determinar el monto final de una compra en una tienda en línea, después de aplicar un descuento. El programa debe hacer lo siguiente:\n",
    "\n",
    "1. Solicita al usuario que ingrese el precio original de un artículo.\n",
    "\n",
    "2. Pregunta al usuario si tiene un cupón de descuento (respuesta sí o no).\n",
    "\n",
    "3. Si el usuario responde que sí, solicita que ingrese el valor del cupón de descuento.\n",
    "\n",
    "4. Aplica el descuento al precio original del artículo, siempre y cuando el valor del cupón sea válido (es decir, mayor a cero). Por ejemplo, descuento de 15€. \n",
    "\n",
    "5. Muestra el precio final de la compra, teniendo en cuenta el descuento aplicado o sin él. \n",
    "\n",
    "6. Recuerda utilizar estructuras de control de flujo como if, elif y else para llevar a cabo estas acciones en tu programa de Python."
   ]
  },
  {
   "cell_type": "code",
   "execution_count": 41,
   "metadata": {},
   "outputs": [],
   "source": [
    "def cupon():\n",
    "    og_value = float(input(\"Ingrese el precio original del artículo\"))\n",
    "    while True:\n",
    "        disc_bool = input(\"¿Tiene un cupón de descuento? (Y/N)\")\n",
    "        if disc_bool == \"Y\" or disc_bool == \"y\":\n",
    "            while True:\n",
    "                discount = float(input(\"Introduzca el valor del descuento (mayor que 0)\"))\n",
    "                if discount > 0:\n",
    "                    break\n",
    "                else:\n",
    "                    continue\n",
    "            break\n",
    "        elif disc_bool == \"N\" or disc_bool == \"n\":\n",
    "            discount = 0\n",
    "            break\n",
    "        else:\n",
    "            continue\n",
    "    if discount != 0:\n",
    "        return print(\"El precio de compra con descuento será:\", round(og_value-discount, ndigits=2), \"€\\nEl precio de compra sin descuento será:\", og_value, \"€\")\n",
    "    else:\n",
    "        return print(\"El precio de compra se mantiene en:\", round(og_value, ndigits=2), \"€\")\n",
    "   "
   ]
  },
  {
   "cell_type": "code",
   "execution_count": 33,
   "metadata": {},
   "outputs": [
    {
     "name": "stdout",
     "output_type": "stream",
     "text": [
      "El precio de compra con descuento será: 17.0 €\n",
      "El precio de compra sin descuento será: 19.99 €\n"
     ]
    }
   ],
   "source": [
    "cupon()"
   ]
  },
  {
   "cell_type": "markdown",
   "metadata": {},
   "source": [
    "Modifica el programa anterior para que el usuario ingrese un porcentaje de descuento en lugar de un valor fijo (por ejemplo, 30%). Aplica el descuento en base al porcentaje ingresado."
   ]
  },
  {
   "cell_type": "code",
   "execution_count": 42,
   "metadata": {},
   "outputs": [],
   "source": [
    "def cupon2():\n",
    "    og_value = float(input(\"Ingrese el precio original del artículo\"))\n",
    "    while True:\n",
    "        disc_bool = input(\"¿Tiene un cupón de descuento? (Y/N)\")\n",
    "        if disc_bool == \"Y\" or disc_bool == \"y\":\n",
    "            while True:\n",
    "                discount = float(input(\"Introduzca el porcentaje del descuento (mayor que 0%)\"))\n",
    "                if discount > 0:\n",
    "                    break\n",
    "                else:\n",
    "                    continue\n",
    "            break\n",
    "        elif disc_bool == \"N\" or disc_bool == \"n\":\n",
    "            discount = 0\n",
    "            break\n",
    "        else:\n",
    "            continue\n",
    "    if discount != 0:\n",
    "        return print(\"El precio de compra con descuento será:\", round(og_value-og_value*discount/100, ndigits=2), \"€\\nEl precio de compra sin descuento será:\", og_value, \"€\")\n",
    "    else:\n",
    "        return print(\"El precio de compra se mantiene en:\", round(og_value, ndigits=2), \"€\")\n",
    "   "
   ]
  },
  {
   "cell_type": "code",
   "execution_count": 45,
   "metadata": {},
   "outputs": [
    {
     "name": "stdout",
     "output_type": "stream",
     "text": [
      "El precio de compra con descuento será: 34.0 €\n",
      "El precio de compra sin descuento será: 100.0 €\n"
     ]
    }
   ],
   "source": [
    "cupon2()"
   ]
  },
  {
   "cell_type": "markdown",
   "metadata": {},
   "source": [
    "Modifica el programa anterior agregando un límite al descuento, donde el descuento mínimo sea del 5% y el máximo del 50%. Si el usuario ingresa un porcentaje fuera de este rango, notifíquele y aplique el descuento mínimo o máximo según sea el caso."
   ]
  },
  {
   "cell_type": "code",
   "execution_count": 50,
   "metadata": {},
   "outputs": [],
   "source": [
    "def cupon3():\n",
    "    og_value = float(input(\"Ingrese el precio original del artículo\"))\n",
    "    while True:\n",
    "        disc_bool = input(\"¿Tiene un cupón de descuento? (Y/N)\")\n",
    "        if disc_bool == \"Y\" or disc_bool == \"y\":\n",
    "            while True:\n",
    "                discount = float(input(\"Introduzca el porcentaje del descuento (5-50%)\"))\n",
    "                if 5 >= discount >= 50:\n",
    "                    break\n",
    "                elif discount > 50:\n",
    "                    discount = 50\n",
    "                    print(\"El descuento supera el máximo, se aplicará el descuento máximo del 50%\")\n",
    "                    break\n",
    "                elif discount < 5:\n",
    "                    discount = 5\n",
    "                    print(\"El descuento está por debajo del mínimo, se aplicará el descuento mínimo del 5%\")                    \n",
    "                    break\n",
    "                else:\n",
    "                    continue\n",
    "            break\n",
    "        elif disc_bool == \"N\" or disc_bool == \"n\":\n",
    "            discount = 0\n",
    "            break\n",
    "        else:\n",
    "            continue\n",
    "    if discount != 0:\n",
    "        return print(\"El precio de compra con descuento será:\", round(og_value-og_value*discount/100, ndigits=2), \"€\\nEl precio de compra sin descuento será:\", og_value, \"€\")\n",
    "    else:\n",
    "        return print(\"El precio de compra se mantiene en:\", round(og_value, ndigits=2), \"€\")\n",
    "   "
   ]
  },
  {
   "cell_type": "code",
   "execution_count": 51,
   "metadata": {},
   "outputs": [
    {
     "name": "stdout",
     "output_type": "stream",
     "text": [
      "El descuento supera el máximo, se aplicará el descuento máximo del 50%\n",
      "El precio de compra con descuento será: 28390.0 €\n",
      "El precio de compra sin descuento será: 56780.0 €\n"
     ]
    }
   ],
   "source": [
    "cupon3()"
   ]
  },
  {
   "cell_type": "markdown",
   "metadata": {},
   "source": [
    "Crea un programa nuevo que permita al usuario ingresar varios artículos, cada uno con su precio original y cupón de descuento. Aplica los descuentos correspondientes a cada producto y muestra el monto total final de la compra."
   ]
  },
  {
   "cell_type": "code",
   "execution_count": null,
   "metadata": {},
   "outputs": [],
   "source": []
  },
  {
   "cell_type": "markdown",
   "metadata": {},
   "source": [
    "Crea un nuevo programa que permita aplicar descuentos por categorías. En este caso, nuestra tienda aplicará descuentos en función de la categoría (por ejemplo, electrónica, ropa, juguetes). Pregunta al usuario a que categoría pertenece su producto y aplica el descuento correspondiente a la categoría. Debes solicitar al usuario que ingrese la categoría del articulo y el precio para aplicarle el descuento. "
   ]
  },
  {
   "cell_type": "code",
   "execution_count": null,
   "metadata": {},
   "outputs": [],
   "source": []
  },
  {
   "cell_type": "markdown",
   "metadata": {},
   "source": [
    "Crea un nuevo programa que aplique descuentos automáticos en función de la fecha actual. Aplica un descuento del 10% en compras realizadas entre lunes y viernes o un descuento del 15% en compras realizadas durante los fines de semana."
   ]
  },
  {
   "cell_type": "code",
   "execution_count": null,
   "metadata": {},
   "outputs": [],
   "source": []
  },
  {
   "cell_type": "markdown",
   "metadata": {},
   "source": [
    "Crea un programa nuevo que implemente un sistema de membresía donde los usuarios registrados obtengan un descuento adicional del 5%. Solicita al usuario que ingrese su nombre de usuario y contraseña para verificar su membresía y aplique el descuento adicional si corresponde. \n",
    "\n",
    "📝 Nota: Para este ejercicio solo tendremos un usuario registrado. El usuario es `USUARIO` y la contraseña es  `USUARIO123`. \n"
   ]
  },
  {
   "cell_type": "code",
   "execution_count": null,
   "metadata": {},
   "outputs": [],
   "source": []
  },
  {
   "cell_type": "markdown",
   "metadata": {},
   "source": [
    "Crea un nuevo programa que ofrezca un descuento del 10% adicional si el usuario compra más de 5 artículos del mismo tipo. Debes verificar la cantidad de productos comprados y aplicar el descuento adicional si corresponde.\n"
   ]
  },
  {
   "cell_type": "code",
   "execution_count": null,
   "metadata": {},
   "outputs": [],
   "source": []
  },
  {
   "cell_type": "markdown",
   "metadata": {},
   "source": [
    "Crea un nuevo programa que ofrezca descuentos progresivos en función del volumen de compra. Aplica un descuento del 5% para compras entre 100€ y 200€, un descuento del 10% para compras entre 200€ y 500€ y un descuento del 15% para compras superiores a 500€."
   ]
  },
  {
   "cell_type": "code",
   "execution_count": null,
   "metadata": {},
   "outputs": [],
   "source": []
  },
  {
   "cell_type": "markdown",
   "metadata": {},
   "source": [
    "Crea un nuevo programa  que ofrezca un descuento adicional del 3% si el usuario paga con tarjeta de crédito o débito. Solicita al usuario que ingrese el método de pago y el descuento original, por último aplica el descuento si corresponde."
   ]
  },
  {
   "cell_type": "code",
   "execution_count": null,
   "metadata": {},
   "outputs": [],
   "source": []
  }
 ],
 "metadata": {
  "kernelspec": {
   "display_name": "hackio",
   "language": "python",
   "name": "python3"
  },
  "language_info": {
   "codemirror_mode": {
    "name": "ipython",
    "version": 3
   },
   "file_extension": ".py",
   "mimetype": "text/x-python",
   "name": "python",
   "nbconvert_exporter": "python",
   "pygments_lexer": "ipython3",
   "version": "3.11.4"
  }
 },
 "nbformat": 4,
 "nbformat_minor": 2
}
